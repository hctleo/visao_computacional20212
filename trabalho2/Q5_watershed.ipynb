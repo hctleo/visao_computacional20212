{
  "nbformat": 4,
  "nbformat_minor": 0,
  "metadata": {
    "colab": {
      "name": "Q5_watershed",
      "provenance": [],
      "collapsed_sections": [],
      "authorship_tag": "ABX9TyO4kbzKlDQfo5A8PGPRhbnG",
      "include_colab_link": true
    },
    "kernelspec": {
      "name": "python3",
      "display_name": "Python 3"
    },
    "language_info": {
      "name": "python"
    }
  },
  "cells": [
    {
      "cell_type": "markdown",
      "metadata": {
        "id": "view-in-github",
        "colab_type": "text"
      },
      "source": [
        "<a href=\"https://colab.research.google.com/github/mechhector/visao_computacional20212/blob/main/trabalho2/Q5_watershed.ipynb\" target=\"_parent\"><img src=\"https://colab.research.google.com/assets/colab-badge.svg\" alt=\"Open In Colab\"/></a>"
      ]
    },
    {
      "cell_type": "code",
      "metadata": {
        "id": "XTvJx9LpsMVv"
      },
      "source": [
        "# Trabalho 2 - DIP 2021.1\n",
        "# Hector Leonardo Mota Moreira\n",
        "\n",
        "# watershed\n",
        "\n",
        "import numpy as np\n",
        "import cv2\n",
        "from google.colab.patches import cv2_imshow\n",
        "\n",
        "\n",
        "img = cv2.imread('/content/bolas.jpg')\n",
        "\n",
        "image_content = 'bolas'\n",
        "\n",
        "gray = cv2.cvtColor(img,cv2.COLOR_BGR2GRAY)\n",
        "\n",
        "ret, thresh = cv2.threshold(gray,0,255,cv2.THRESH_BINARY_INV+cv2.THRESH_OTSU)\n",
        "\n",
        "gray = cv2.medianBlur(gray,3)\n",
        "\n",
        "img_copy = img.copy()"
      ],
      "execution_count": null,
      "outputs": []
    },
    {
      "cell_type": "code",
      "metadata": {
        "id": "44aS0HGCsise"
      },
      "source": [
        "# From the Professor Aldísio's lecture and OpenCV Tutorials\n",
        "\n",
        "# noise removal\n",
        "kernel = np.ones((3,3),np.uint8)\n",
        "opening = cv2.morphologyEx(thresh,cv2.MORPH_OPEN,kernel, iterations = 3)\n",
        "cv2_imshow(opening)\n",
        "\n",
        "# sure background area\n",
        "sure_bg = cv2.dilate(opening,kernel,iterations=3)\n",
        "cv2_imshow(sure_bg)\n",
        "\n",
        "# Finding sure foreground area\n",
        "dist_transform = cv2.distanceTransform(opening,cv2.DIST_L2,5)\n",
        "ret, sure_fg = cv2.threshold(dist_transform,0.7*dist_transform.max(),255,0)\n",
        "\n",
        "cv2_imshow(dist_transform)\n",
        "cv2_imshow(sure_fg)\n",
        "\n",
        "# Finding unknown region\n",
        "sure_fg = np.uint8(sure_fg)\n",
        "unknown = cv2.subtract(sure_bg,sure_fg)\n",
        "\n",
        "cv2_imshow(unknown)\n",
        "# Marker labelling\n",
        "ret, markers = cv2.connectedComponents(sure_fg)\n",
        "\n",
        "# Add one to all labels so that sure background is not 0, but 1\n",
        "markers = markers+1\n",
        "\n",
        "# Now, mark the region of unknown with zero\n",
        "markers[unknown==255] = 0\n",
        "\n",
        "markers = cv2.watershed(img_copy,markers)\n",
        "\n",
        "\n",
        "img_copy[markers == -1] = [0,0,255]\n",
        "\n",
        "cv2_imshow(img_copy)\n"
      ],
      "execution_count": null,
      "outputs": []
    },
    {
      "cell_type": "code",
      "metadata": {
        "id": "j-7kFxh8sivV"
      },
      "source": [
        "file_name = '/content/drive/MyDrive/Computer_Vision/Trabalho_2/Q5_watershed/{}_1_opening_watershed.png'\n",
        "\n",
        "cv2.imwrite(file_name.format(image_content), opening)\n",
        "\n",
        "file_name = '/content/drive/MyDrive/Computer_Vision/Trabalho_2/Q5_watershed/{}_2_sure_bg_watershed.png'\n",
        "\n",
        "cv2.imwrite(file_name.format(image_content), sure_bg)\n",
        "\n",
        "file_name = '/content/drive/MyDrive/Computer_Vision/Trabalho_2/Q5_watershed/{}_3_dist_transform_watershed.png'\n",
        "\n",
        "cv2.imwrite(file_name.format(image_content), dist_transform)\n",
        "\n",
        "file_name = '/content/drive/MyDrive/Computer_Vision/Trabalho_2/Q5_watershed/{}_4_sure_fg_watershed.png'\n",
        "\n",
        "cv2.imwrite(file_name.format(image_content), sure_fg)\n",
        "\n",
        "file_name = '/content/drive/MyDrive/Computer_Vision/Trabalho_2/Q5_watershed/{}_5_unknown_watershed.png'\n",
        "\n",
        "cv2.imwrite(file_name.format(image_content), unknown)\n",
        "\n",
        "file_name = '/content/drive/MyDrive/Computer_Vision/Trabalho_2/Q5_watershed/{}_6_watershed.png'\n",
        "\n",
        "cv2.imwrite(file_name.format(image_content), img_copy)"
      ],
      "execution_count": null,
      "outputs": []
    }
  ]
}