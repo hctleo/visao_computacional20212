{
  "nbformat": 4,
  "nbformat_minor": 0,
  "metadata": {
    "colab": {
      "name": "Q3_moving_average_th",
      "provenance": [],
      "authorship_tag": "ABX9TyMG7GEJhGsaz/ZfXjNU6xnG",
      "include_colab_link": true
    },
    "kernelspec": {
      "name": "python3",
      "display_name": "Python 3"
    },
    "language_info": {
      "name": "python"
    }
  },
  "cells": [
    {
      "cell_type": "markdown",
      "metadata": {
        "id": "view-in-github",
        "colab_type": "text"
      },
      "source": [
        "<a href=\"https://colab.research.google.com/github/mechhector/visao_computacional20212/blob/main/trabalho2/Q3_moving_average_th.ipynb\" target=\"_parent\"><img src=\"https://colab.research.google.com/assets/colab-badge.svg\" alt=\"Open In Colab\"/></a>"
      ]
    },
    {
      "cell_type": "code",
      "metadata": {
        "id": "23ARjlV-qNLF"
      },
      "source": [
        "# Trabalho 2 - DIP 2021.2\n",
        "# Hector Leonardo Mota Moreira\n",
        "\n",
        "# moving average threshold\n",
        "\n",
        "import cv2\n",
        "import numpy as np\n",
        "from google.colab.patches import cv2_imshow"
      ],
      "execution_count": null,
      "outputs": []
    },
    {
      "cell_type": "code",
      "metadata": {
        "id": "hjB29j1vrBB_"
      },
      "source": [
        "# load the image\n",
        "\n",
        "image_content = 'road_th200'\n",
        "\n",
        "img = cv2.imread('/content/drive/MyDrive/Computer_Vision/img_src/documento1.jpg',0)\n",
        "\n",
        "cv2_imshow(img)\n",
        "\n",
        "print(img.shape)"
      ],
      "execution_count": null,
      "outputs": []
    },
    {
      "cell_type": "code",
      "metadata": {
        "id": "jjHo425brBE0"
      },
      "source": [
        "# otsu threshold\n",
        "\n",
        "ret, otsu_th = cv2.threshold(img, 80, 255, cv2.THRESH_BINARY + cv2.THRESH_OTSU)\n",
        "\n",
        "cv2_imshow(otsu_th)"
      ],
      "execution_count": null,
      "outputs": []
    },
    {
      "cell_type": "code",
      "metadata": {
        "id": "uED1f6jgrBHt"
      },
      "source": [
        "# moving average threshold\n",
        "\n",
        "th_adaptative_mean = cv2.adaptiveThreshold(img,255,cv2.ADAPTIVE_THRESH_MEAN_C,\\\n",
        "                cv2.THRESH_BINARY,3,3)\n",
        "\n",
        "cv2_imshow(th_adaptative_mean)"
      ],
      "execution_count": null,
      "outputs": []
    },
    {
      "cell_type": "code",
      "metadata": {
        "id": "28Hc7kmorBKs"
      },
      "source": [
        "# saving the results\n",
        "\n",
        "image_content = 'documento'\n",
        "\n",
        "file_name = '/content/drive/MyDrive/Computer_Vision/Trabalho_2/Q3_movin_average_th/{}_moving_average.png'\n",
        "\n",
        "otsu_image = '/content/drive/MyDrive/Computer_Vision/Trabalho_2/Q3_movin_average_th/{}_otsu_th.png'\n",
        "\n",
        "cv2.imwrite(file_name.format(image_content), th_adaptative_mean)\n",
        "\n",
        "cv2.imwrite(otsu_image.format(image_content), otsu_th)"
      ],
      "execution_count": null,
      "outputs": []
    }
  ]
}