{
  "nbformat": 4,
  "nbformat_minor": 0,
  "metadata": {
    "colab": {
      "name": "Q6_hough_transform",
      "provenance": [],
      "collapsed_sections": [],
      "authorship_tag": "ABX9TyPowLP2j/O4JM3tItK6LxaW",
      "include_colab_link": true
    },
    "kernelspec": {
      "name": "python3",
      "display_name": "Python 3"
    },
    "language_info": {
      "name": "python"
    }
  },
  "cells": [
    {
      "cell_type": "markdown",
      "metadata": {
        "id": "view-in-github",
        "colab_type": "text"
      },
      "source": [
        "<a href=\"https://colab.research.google.com/github/mechhector/visao_computacional20212/blob/main/trabalho2/Q6_hough_transform.ipynb\" target=\"_parent\"><img src=\"https://colab.research.google.com/assets/colab-badge.svg\" alt=\"Open In Colab\"/></a>"
      ]
    },
    {
      "cell_type": "code",
      "metadata": {
        "id": "5AK24jJ0s2sR"
      },
      "source": [
        "# Trabalho 2 - DIP 2021.1\n",
        "# Hector Leonardo Mota Moreira\n",
        "\n",
        "# hough transform\n",
        "\n",
        "import cv2\n",
        "import math as m\n",
        "import numpy as np\n",
        "import matplotlib.pyplot as plt\n",
        "from google.colab.patches import cv2_imshow"
      ],
      "execution_count": null,
      "outputs": []
    },
    {
      "cell_type": "code",
      "metadata": {
        "id": "bkIVuRqttSku"
      },
      "source": [
        "# load the image\n",
        "\n",
        "image_content = 'campo'\n",
        "\n",
        "img = cv2.imread('/content/drive/MyDrive/Computer_Vision/img_src/road_peuqeno.jpeg')\n",
        "\n",
        "gray = cv2.cvtColor(img,cv2.COLOR_BGR2GRAY)\n",
        "\n",
        "cv2_imshow(gray)"
      ],
      "execution_count": null,
      "outputs": []
    },
    {
      "cell_type": "code",
      "metadata": {
        "id": "Y3S6RSOxtSnM"
      },
      "source": [
        "# hough lines\n",
        "\n",
        "edges = cv2.Canny(gray,50,200,apertureSize = 3)\n",
        "\n",
        "#laplacian = cv2.Laplacian(gray,cv2.CV_64F)\n",
        "\n",
        "lines = cv2.HoughLines(edges,2,np.pi/180,200)\n",
        "\n",
        "\n",
        "for i in range(len(lines)):\n",
        "    for rho,theta in lines[i]:\n",
        "        a = np.cos(theta)\n",
        "        b = np.sin(theta)\n",
        "        x0 = a*rho\n",
        "        y0 = b*rho\n",
        "        x1 = int(x0 + 1000*(-b))\n",
        "        y1 = int(y0 + 1000*(a))\n",
        "        x2 = int(x0 - 1000*(-b))\n",
        "        y2 = int(y0 - 1000*(a))\n",
        "\n",
        "        cv2.line(img,(x1,y1),(x2,y2),(255,0,200),1) \n",
        "        \n",
        "cv2_imshow(img)"
      ],
      "execution_count": null,
      "outputs": []
    },
    {
      "cell_type": "code",
      "metadata": {
        "id": "dZ3jdaXjtSpl"
      },
      "source": [
        "# hough circles\n",
        "\n",
        "img = cv2.imread('/content/circulos.png')\n",
        "\n",
        "# Convert to gray-scale\n",
        "\n",
        "gray = cv2.cvtColor(img, cv2.COLOR_BGR2GRAY)\n",
        "\n",
        "# Blur the image to reduce noise\n",
        "\n",
        "img_blur = cv2.medianBlur(gray,3)\n",
        "\n",
        "# Apply hough transform on the image\n",
        "\n",
        "circles = cv2.HoughCircles(img_blur, cv2.HOUGH_GRADIENT, 1, img.shape[0]/24, param1=150, param2=15, minRadius=15, maxRadius=70)\n",
        "\n",
        "# Draw detected circles\n",
        "\n",
        "if circles is not None:\n",
        "\n",
        "  circles = np.uint16(np.around(circles))\n",
        "\n",
        "  for i in circles[0, :]:\n",
        "\n",
        "        # Draw outer circle\n",
        "\n",
        "    cv2.circle(img, (i[0], i[1]), i[2], (240, 0, 0), 2)\n",
        "\n",
        "        # Draw inner circle\n",
        "\n",
        "    cv2.circle(img, (i[0], i[1]), 2, (0, 255, 0), 3)\n",
        "\n",
        "\n",
        "cv2_imshow(img)"
      ],
      "execution_count": null,
      "outputs": []
    }
  ]
}