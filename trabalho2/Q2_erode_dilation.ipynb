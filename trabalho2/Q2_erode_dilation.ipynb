{
  "nbformat": 4,
  "nbformat_minor": 0,
  "metadata": {
    "colab": {
      "name": "Q2_erode_dilation",
      "provenance": [],
      "collapsed_sections": [],
      "authorship_tag": "ABX9TyOrQn8HB5GmnerjyeNZRG5I",
      "include_colab_link": true
    },
    "kernelspec": {
      "name": "python3",
      "display_name": "Python 3"
    },
    "language_info": {
      "name": "python"
    }
  },
  "cells": [
    {
      "cell_type": "markdown",
      "metadata": {
        "id": "view-in-github",
        "colab_type": "text"
      },
      "source": [
        "<a href=\"https://colab.research.google.com/github/mechhector/visao_computacional20212/blob/main/trabalho2/Q2_erode_dilation.ipynb\" target=\"_parent\"><img src=\"https://colab.research.google.com/assets/colab-badge.svg\" alt=\"Open In Colab\"/></a>"
      ]
    },
    {
      "cell_type": "code",
      "metadata": {
        "id": "rrP5rK5BpgHB"
      },
      "source": [
        "# Trabalho 2 - DIP 2021.2\n",
        "# Hector Leonardo Mota Moreira\n",
        "\n",
        "# erode and dilation\n",
        "\n",
        "import cv2\n",
        "import math as m\n",
        "import numpy as np\n",
        "import matplotlib.pyplot as plt\n",
        "from google.colab.patches import cv2_imshow"
      ],
      "execution_count": null,
      "outputs": []
    },
    {
      "cell_type": "code",
      "metadata": {
        "id": "wRQV5phiphpw"
      },
      "source": [
        "# load the image and convert to gray scale \n",
        "\n",
        "image_content = 'polvo'\n",
        "\n",
        "img = cv2.imread('/content/circulos.png')\n",
        "\n",
        "gray = cv2.cvtColor(img,cv2.COLOR_BGR2GRAY)\n",
        "\n",
        "cv2_imshow(gray)"
      ],
      "execution_count": null,
      "outputs": []
    },
    {
      "cell_type": "code",
      "metadata": {
        "id": "QbvaDtoVphtQ"
      },
      "source": [
        "kernel = np.ones((3,3))"
      ],
      "execution_count": null,
      "outputs": []
    },
    {
      "cell_type": "code",
      "metadata": {
        "id": "e39CiM56phwc"
      },
      "source": [
        "# erode\n",
        "\n",
        "erode = cv2.erode(gray, kernel, iterations=1)\n",
        "\n",
        "cv2_imshow(erode)\n",
        "\n",
        "erode = cv2.erode(gray, kernel, iterations=5)\n",
        "\n",
        "cv2_imshow(erode)\n"
      ],
      "execution_count": null,
      "outputs": []
    },
    {
      "cell_type": "code",
      "metadata": {
        "id": "tJFW1EmOph0E"
      },
      "source": [
        "k = cv2.getStructuringElement(cv2.MORPH_ELLIPSE,(3,3))"
      ],
      "execution_count": null,
      "outputs": []
    },
    {
      "cell_type": "code",
      "metadata": {
        "id": "nsCjtSDhph32"
      },
      "source": [
        "# dilation\n",
        "kernel = np.ones((1,5))\n",
        "dilation = cv2.dilate(erode, kernel, iterations=3)\n",
        "\n",
        "cv2_imshow(dilation)"
      ],
      "execution_count": null,
      "outputs": []
    }
  ]
}