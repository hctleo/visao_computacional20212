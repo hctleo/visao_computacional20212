{
  "nbformat": 4,
  "nbformat_minor": 0,
  "metadata": {
    "colab": {
      "name": "Q4_region_growing",
      "provenance": [],
      "authorship_tag": "ABX9TyPrUDMTkvICGVQRfrd5oNYQ",
      "include_colab_link": true
    },
    "kernelspec": {
      "name": "python3",
      "display_name": "Python 3"
    },
    "language_info": {
      "name": "python"
    }
  },
  "cells": [
    {
      "cell_type": "markdown",
      "metadata": {
        "id": "view-in-github",
        "colab_type": "text"
      },
      "source": [
        "<a href=\"https://colab.research.google.com/github/mechhector/visao_computacional20212/blob/main/trabalho2/Q4_region_growing.ipynb\" target=\"_parent\"><img src=\"https://colab.research.google.com/assets/colab-badge.svg\" alt=\"Open In Colab\"/></a>"
      ]
    },
    {
      "cell_type": "code",
      "metadata": {
        "id": "gx3Eb-Hgrack"
      },
      "source": [
        "# Trabalho 2 - DIP 2021.2\n",
        "# Hector Leonardo Mota Moreira\n",
        "\n",
        "# region growing\n",
        "\n",
        "#libraries\n",
        "\n",
        "import sys\n",
        "import cv2\n",
        "import math\n",
        "import numpy as np\n",
        "import matplotlib.pyplot as plt\n",
        "import time\n",
        "from numba import njit \n",
        "from google.colab.patches import cv2_imshow"
      ],
      "execution_count": null,
      "outputs": []
    },
    {
      "cell_type": "code",
      "metadata": {
        "id": "1WZ0hdl_r2XW"
      },
      "source": [
        "# load the image\n",
        "\n",
        "image_path = '/content/drive/MyDrive/Computer_Vision/Trabalho_1 /Q7_8_Histogram/tanque_equalized_histogram.png' \n",
        "\n",
        "image_content = 'tanque_blur_eqhist'\n",
        "\n",
        "img = cv2.imread(image_path) # load image\n",
        "\n",
        "img_grayscale = cv2.cvtColor(img, cv2.COLOR_BGR2GRAY)\n",
        "\n",
        "#img_grayscale = cv2.blur(img_grayscale, (3,3))\n",
        "\n",
        "cv2_imshow(img)\n",
        "\n",
        "cv2_imshow(img_grayscale)\n",
        "\n",
        "print(img_grayscale.shape)"
      ],
      "execution_count": null,
      "outputs": []
    },
    {
      "cell_type": "code",
      "metadata": {
        "id": "w3L6RvzVr2aO"
      },
      "source": [
        "# from the Lapisco's computer vision training\n",
        "\n",
        "@njit\n",
        "\n",
        "def region_growing(image, seed=None):\n",
        "\n",
        "    # Get the rows and columns of the image\n",
        "    rows, cols = image.shape[:2]\n",
        "\n",
        "    # Get the seed point\n",
        "    xc, yc = seed\n",
        "\n",
        "    # Create a matrix that will contain the segmented region\n",
        "    segmented = np.zeros_like(image)\n",
        "\n",
        "    # Mark the seed point in the image\n",
        "    segmented[xc, yc] = 255\n",
        "\n",
        "    # Loop through the image until the region stop growing\n",
        "    current_found = 0\n",
        "    previous_points = 1\n",
        "\n",
        "    while previous_points != current_found:\n",
        "\n",
        "        previous_points = current_found\n",
        "        current_found = 0\n",
        "        for row in range(rows):\n",
        "            for col in range(cols):\n",
        "                # Verify if we reach the ROI and search through the neighborhood to see if the pixel is of the same\n",
        "                # object, then if the pixel is part of the object put them in the segmented image\n",
        "                if segmented[row, col] == 255:\n",
        "                    if image[row - 1, col - 1] > 110 and  image[row - 1, col - 1] < 220:\n",
        "                        segmented[row - 1, col - 1] = 255\n",
        "                        current_found += 1\n",
        "                    if image[row - 1, col] > 110 and  image[row - 1, col] < 220 :\n",
        "                        segmented[row - 1, col] = 255\n",
        "                        current_found += 1\n",
        "                    if image[row - 1, col + 1] > 110 and  image[row - 1, col + 1] <220:\n",
        "                        segmented[row - 1, col + 1] = 255\n",
        "                        current_found += 1\n",
        "                    if image[row, col - 1] > 110 and  image[row, col - 1] < 220:\n",
        "                        segmented[row, col - 1] = 255\n",
        "                        current_found += 1\n",
        "                    if image[row, col + 1] > 110 and  image[row, col + 1] < 220:\n",
        "                        segmented[row, col + 1] = 255\n",
        "                        current_found += 1\n",
        "                    if image[row + 1, col - 1] > 110 and  image[row + 1, col - 1] <220:\n",
        "                        segmented[row + 1, col - 1] = 255\n",
        "                        current_found += 1\n",
        "                    if image[row + 1, col] > 110 and  image[row + 1, col] < 220 :\n",
        "                        segmented[row + 1, col] = 255\n",
        "                        current_found += 1\n",
        "                    if image[row + 1, col + 1] > 110 and  image[row + 1, col + 1] < 220:\n",
        "                        segmented[row + 1, col + 1] = 255\n",
        "                        current_found += 1\n",
        "\n",
        "    return segmented\n",
        "\n",
        "\n",
        "segmented_image = region_growing(img_grayscale, seed=(int(img_grayscale.shape[0]/2), int(img_grayscale.shape[1]/2)))\n",
        "\n",
        "\n",
        "cv2_imshow(segmented_image)"
      ],
      "execution_count": null,
      "outputs": []
    },
    {
      "cell_type": "code",
      "metadata": {
        "id": "goUE5zytr2cv"
      },
      "source": [
        "# image saving\n",
        "\n",
        "file_name = '/content/drive/MyDrive/Computer_Vision/Trabalho_2/Q4_region_growing/{}_region_growing.png'\n",
        "\n",
        "gs_image = '/content/drive/MyDrive/Computer_Vision/Trabalho_2/Q4_region_growing/{}_grayscale_region_growing.png'\n",
        "\n",
        "cv2.imwrite(file_name.format(image_content), segmented_image) \n",
        "\n",
        "cv2.imwrite(gs_image.format(image_content), img_grayscale) "
      ],
      "execution_count": null,
      "outputs": []
    }
  ]
}