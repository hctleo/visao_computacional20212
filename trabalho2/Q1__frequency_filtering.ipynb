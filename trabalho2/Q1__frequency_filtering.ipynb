{
  "nbformat": 4,
  "nbformat_minor": 0,
  "metadata": {
    "colab": {
      "name": "Q1__frequency_filtering",
      "provenance": [],
      "authorship_tag": "ABX9TyNatZazOmV7kur42OMNGwwD",
      "include_colab_link": true
    },
    "kernelspec": {
      "name": "python3",
      "display_name": "Python 3"
    },
    "language_info": {
      "name": "python"
    }
  },
  "cells": [
    {
      "cell_type": "markdown",
      "metadata": {
        "id": "view-in-github",
        "colab_type": "text"
      },
      "source": [
        "<a href=\"https://colab.research.google.com/github/mechhector/visao_computacional20212/blob/main/trabalho2/Q1__frequency_filtering.ipynb\" target=\"_parent\"><img src=\"https://colab.research.google.com/assets/colab-badge.svg\" alt=\"Open In Colab\"/></a>"
      ]
    },
    {
      "cell_type": "code",
      "metadata": {
        "id": "Rj7JZpDqoIsX"
      },
      "source": [
        "# Trabalho 2 - DIP 2021.2\n",
        "# Hector Leonardo Mota Moreira\n",
        "\n",
        "# Filtering in the frequency domain\n",
        "\n",
        "import cv2\n",
        "import numpy as np\n",
        "from matplotlib import pyplot as plt\n",
        "from google.colab.patches import cv2_imshow\n",
        "from google.colab import files\n",
        "\n",
        "\n",
        "# load the image\n",
        "\n",
        "img = cv2.imread('/content/drive/MyDrive/Computer_Vision/Trabalho_1 /img_scr/messi.jpg',0)\n",
        "\n",
        "cv2_imshow(img)"
      ],
      "execution_count": null,
      "outputs": []
    },
    {
      "cell_type": "code",
      "metadata": {
        "id": "ml6QecQgoiAK"
      },
      "source": [
        "# Fourier transform and quadrant shift with numpy\n",
        "\n",
        "f = np.fft.fft2(img)\n",
        "fshift = np.fft.fftshift(f)\n",
        "magnitude_spectrum = 20*np.log(np.abs(fshift))\n",
        "\n",
        "cv2_imshow(magnitude_spectrum)   \n",
        "\n"
      ],
      "execution_count": null,
      "outputs": []
    },
    {
      "cell_type": "code",
      "metadata": {
        "id": "kNulpc2joiCu"
      },
      "source": [
        "# HIGH PASS FILTER\n",
        "\n",
        "rows, cols = img.shape\n",
        "crow,ccol = round(rows/2) , round(cols/2)\n",
        "fshift[crow-30:crow+30, ccol-30:ccol+30] = 1\n",
        "f_ishift = np.fft.ifftshift(fshift)\n",
        "img_back = np.fft.ifft2(f_ishift)\n",
        "img_back = np.abs(img_back)\n",
        "\n",
        "cv2_imshow(img_back)"
      ],
      "execution_count": null,
      "outputs": []
    },
    {
      "cell_type": "code",
      "metadata": {
        "id": "kB9gMlFsoiFd"
      },
      "source": [
        "# Low pass filter ; exemple from the openCV tutorials\n",
        "\n",
        "dft = cv2.dft(np.float32(img),flags = cv2.DFT_COMPLEX_OUTPUT)\n",
        "dft_shift = np.fft.fftshift(dft)\n",
        "\n",
        "magnitude_spectrum = 20*np.log(cv2.magnitude(dft_shift[:,:,0],dft_shift[:,:,1]))\n",
        "\n",
        "rows, cols = img.shape\n",
        "crow,ccol = round(rows/2) , round(cols/2)\n",
        "\n",
        "# create a mask first, center square is 1, remaining all zeros\n",
        "mask = np.zeros((rows,cols,2),np.uint8)\n",
        "mask[crow-30:crow+30, ccol-30:ccol+30] = 1\n",
        "\n",
        "# apply mask and inverse DFT\n",
        "fshift = dft_shift*mask\n",
        "f_ishift = np.fft.ifftshift(fshift)\n",
        "img_back = cv2.idft(f_ishift)\n",
        "img_back = cv2.magnitude(img_back[:,:,0],img_back[:,:,1])\n",
        "\n",
        "\n",
        "plt.imshow(img_back, cmap = 'gray')\n",
        "plt.figure(figsize = (150,150))\n",
        "\n",
        "plt.show()"
      ],
      "execution_count": null,
      "outputs": []
    },
    {
      "cell_type": "code",
      "metadata": {
        "id": "bwaOvIaioiVG"
      },
      "source": [
        "# notch filter\n",
        "\n",
        "img = cv2.imread('/content/lena.jpeg',0)\n",
        "\n",
        "# get min and max values of img\n",
        "img_min, img_max = np.amin(img, (0,1)), np.amax(img, (0,1))\n",
        "\n",
        "print(img_min,img_max)\n",
        "\n",
        "# convert image to floats and do dft saving as complex output\n",
        "dft = cv2.dft(np.float32(img), flags = cv2.DFT_COMPLEX_OUTPUT)\n",
        "\n",
        "# apply shift of origin from upper left corner to center of image\n",
        "dft_shift = np.fft.fftshift(dft)\n",
        "\n",
        "# extract magnitude and phase images\n",
        "mag, phase = cv2.cartToPolar(dft_shift[:,:,0], dft_shift[:,:,1])\n",
        "\n",
        "# get spectrum\n",
        "spec = np.log(mag) / 20\n",
        "\n",
        "# create mask from spectrum keeping only the brightest spots as the notches\n",
        "mask = cv2.normalize(spec, None, alpha=0, beta=1, norm_type=cv2.NORM_MINMAX)\n",
        "mask = cv2.threshold(mask, 0.65, 1, cv2.THRESH_BINARY)[1]\n",
        "\n",
        "# dilate mask\n",
        "kernel = cv2.getStructuringElement(cv2.MORPH_ELLIPSE, (5,5))\n",
        "mask = cv2.morphologyEx(mask, cv2.MORPH_DILATE, kernel)\n",
        "\n",
        "# cover center DC component by circle of black leaving only a few white spots on black background\n",
        "xcenter = mask.shape[1] // 2\n",
        "ycenter = mask.shape[0] // 2\n",
        "mask = cv2.circle(mask, (xcenter,ycenter), radius=20, color=0, \n",
        "                                            thickness=cv2.FILLED)\n",
        "\n",
        "# apply mask to magnitude such that magnitude is made zero where mask is one, \n",
        "#ie at spots\n",
        "mag[mask!=0] = 0\n",
        "\n",
        "# convert new magnitude and old phase into cartesian real and imaginary \n",
        "#components\n",
        "real, imag = cv2.polarToCart(mag, phase)\n",
        "\n",
        "# combine cartesian components into one complex image\n",
        "back = cv2.merge([real, imag])\n",
        "\n",
        "# shift origin from center to upper left corner\n",
        "back_ishift = np.fft.ifftshift(back)\n",
        "\n",
        "# do idft saving as complex output\n",
        "img_back = cv2.idft(back_ishift)\n",
        "\n",
        "# combine complex components into original image again\n",
        "img_back = cv2.magnitude(img_back[:,:,0], img_back[:,:,1])\n",
        "\n",
        "# re-normalize to 8-bits in range of original\n",
        "min, max = np.amin(img_back, (0,1)), np.amax(img_back, (0,1))\n",
        "print(min,max)\n",
        "notched = cv2.normalize(img_back, None, alpha=img_min, beta=img_max, norm_type=cv2.NORM_MINMAX, dtype=cv2.CV_8U)\n",
        "\n",
        "cv2_imshow(img)\n"
      ],
      "execution_count": null,
      "outputs": []
    }
  ]
}