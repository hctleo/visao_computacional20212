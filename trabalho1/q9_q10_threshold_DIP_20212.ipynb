{
  "nbformat": 4,
  "nbformat_minor": 0,
  "metadata": {
    "colab": {
      "name": "q9_q10_threshold_DIP_20212",
      "provenance": [],
      "mount_file_id": "188M_0H3-l8WAKnqOeumI-u6ZV9k8VtZd",
      "authorship_tag": "ABX9TyNRQYvlRUR4P3IcmHsP9riL",
      "include_colab_link": true
    },
    "kernelspec": {
      "name": "python3",
      "display_name": "Python 3"
    },
    "language_info": {
      "name": "python"
    }
  },
  "cells": [
    {
      "cell_type": "markdown",
      "metadata": {
        "id": "view-in-github",
        "colab_type": "text"
      },
      "source": [
        "<a href=\"https://colab.research.google.com/github/mechhector/visao_computacional20212/blob/main/trabalho1/q9_q10_threshold_DIP_20212.ipynb\" target=\"_parent\"><img src=\"https://colab.research.google.com/assets/colab-badge.svg\" alt=\"Open In Colab\"/></a>"
      ]
    },
    {
      "cell_type": "code",
      "metadata": {
        "colab": {
          "base_uri": "https://localhost:8080/"
        },
        "id": "S-XhmqABlGX6",
        "outputId": "2ea2ec70-3df4-46b7-975e-918226d05006"
      },
      "source": [
        "from google.colab import drive\n",
        "drive.mount('/content/drive')"
      ],
      "execution_count": null,
      "outputs": [
        {
          "output_type": "stream",
          "name": "stdout",
          "text": [
            "Drive already mounted at /content/drive; to attempt to forcibly remount, call drive.mount(\"/content/drive\", force_remount=True).\n"
          ]
        }
      ]
    },
    {
      "cell_type": "code",
      "metadata": {
        "id": "mbllnGPulgWW"
      },
      "source": [
        "# PDI 2021.2 Trabalho 1 \n",
        "# Hector Leonardo Mota Moreira\n",
        "\n",
        "\n",
        "# Threshold and Multiple Threshold\n",
        "\n",
        "import numpy as np\n",
        "import cv2\n",
        "import matplotlib.pyplot as plt \n",
        "from google.colab.patches import cv2_imshow\n",
        "\n",
        "\n",
        "# ========= Loading the image =========\n",
        "\n",
        "img = cv2.imread('/content/drive/MyDrive/Computer_Vision/Trabalho_1 /img_scr/coins_minor.jpg', 0)\n",
        "\n",
        "# =========== Image Content =========== \n",
        "\n",
        "image_content = 'colina'\n",
        "\n",
        "print ('Dimensões da Imagem:', img.shape)\n",
        "\n",
        "cv2_imshow(img)\n",
        "\n",
        "plt.hist(img.ravel(),256,[0,256])\n",
        "plt.show()"
      ],
      "execution_count": null,
      "outputs": []
    },
    {
      "cell_type": "code",
      "metadata": {
        "id": "12vv6VBFqy30"
      },
      "source": [
        "global_th_image = img.copy()\n",
        "\n",
        "th = 80 # Threshold\n",
        "\n",
        "print (img.shape)\n",
        "\n",
        "for i in range (0 , img.shape[0]):\n",
        "  for j in range (0, img.shape[1]):\n",
        "\n",
        "    if global_th_image[(i,j)] > th :\n",
        "\n",
        "      global_th_image[(i,j)] = 255\n",
        "\n",
        "    else:\n",
        "      global_th_image[(i,j)] = 0\n",
        "\n",
        "\n",
        "plt.hist(global_th_image.ravel(),256,[0,256])\n",
        "plt.show()\n",
        "\n",
        "cv2_imshow(global_th_image)\n",
        "\n",
        "file_name = '/content/drive/MyDrive/Computer_Vision/Trabalho_1 /Q9_10_Threshold/th{}_th{}_threshold.png'\n",
        "\n",
        "cv2.imwrite(file_name.format(image_content,th), global_th_image)"
      ],
      "execution_count": null,
      "outputs": []
    },
    {
      "cell_type": "code",
      "metadata": {
        "id": "CG8xCGGyJ3F-"
      },
      "source": [
        "# Multiple threshold\n",
        "\n",
        "th1 = 70\n",
        "\n",
        "th2 = 135\n",
        "\n",
        "multi_th_image = img.copy()\n",
        "\n",
        "for rep in range (1):\n",
        "  for i in range (0 , img.shape[0]):\n",
        "    for j in range (0, img.shape[1]):\n",
        "\n",
        "      if multi_th_image[(i,j)] > th2 :\n",
        "\n",
        "        multi_th_image[(i,j)] = 255\n",
        "          \n",
        "      elif th1 < multi_th_image[(i,j)] <= th2 :\n",
        "        multi_th_image[(i,j)] = 127\n",
        "          \n",
        "      else:\n",
        "        multi_th_image[(i,j)] = 0\n",
        "        \n",
        "cv2_imshow(multi_th_image)\n",
        "\n",
        "file_name = '/content/drive/MyDrive/Computer_Vision/Trabalho_1 /Q9_10_Threshold/{}_th1_{}_th2_{}_multiple_threshold.png'\n",
        "\n",
        "cv2.imwrite(file_name.format(image_content,th1,th2), multi_th_image)\n",
        "\n",
        "plt.hist(multi_th_image.ravel(),256,[0,256])\n",
        "plt.show()"
      ],
      "execution_count": null,
      "outputs": []
    },
    {
      "cell_type": "code",
      "metadata": {
        "id": "KI9hNCGhicLr"
      },
      "source": [
        "# Negative Image\n",
        "\n",
        "negative_image = img.copy()\n",
        "\n",
        "L = img.max() - img.min() + 1\n",
        "\n",
        "for i in range (0 , img.shape[0]):\n",
        "  for j in range (0, img.shape[1]):\n",
        "\n",
        "    negative_image[(i,j)] = L - 1 - img[(i,j)]\n",
        "\n",
        "cv2_imshow(negative_image)"
      ],
      "execution_count": null,
      "outputs": []
    },
    {
      "cell_type": "code",
      "metadata": {
        "id": "Tx7RrxbbjebU"
      },
      "source": [
        "# Threshold with OpenCV\n",
        "\n",
        "ret,thresh1 = cv2.threshold(img,127,255,cv2.THRESH_BINARY)\n",
        "ret,thresh2 = cv2.threshold(img,127,255,cv2.THRESH_BINARY_INV)\n",
        "ret,thresh3 = cv2.threshold(img,127,255,cv2.THRESH_TRUNC)\n",
        "ret,thresh4 = cv2.threshold(img,127,255,cv2.THRESH_TOZERO)\n",
        "ret,thresh5 = cv2.threshold(img,127,255,cv2.THRESH_TOZERO_INV)\n",
        "\n",
        "cv2_imshow(thresh1)\n",
        "cv2_imshow(thresh2)\n",
        "cv2_imshow(thresh3)\n",
        "cv2_imshow(thresh4)\n",
        "cv2_imshow(thresh5)"
      ],
      "execution_count": null,
      "outputs": []
    }
  ]
}