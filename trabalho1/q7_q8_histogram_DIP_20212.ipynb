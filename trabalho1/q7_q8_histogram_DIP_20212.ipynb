{
  "nbformat": 4,
  "nbformat_minor": 0,
  "metadata": {
    "colab": {
      "name": "q7_q8_histogram_DIP_20212",
      "provenance": [],
      "mount_file_id": "1253hg4lbUtd0TNuzLuGrGxfxYDRsH4gD",
      "authorship_tag": "ABX9TyMkiki4+TGv80TpncttBrON",
      "include_colab_link": true
    },
    "kernelspec": {
      "name": "python3",
      "display_name": "Python 3"
    },
    "language_info": {
      "name": "python"
    }
  },
  "cells": [
    {
      "cell_type": "markdown",
      "metadata": {
        "id": "view-in-github",
        "colab_type": "text"
      },
      "source": [
        "<a href=\"https://colab.research.google.com/github/mechhector/visao_computacional20212/blob/main/trabalho1/q7_q8_histogram_DIP_20212.ipynb\" target=\"_parent\"><img src=\"https://colab.research.google.com/assets/colab-badge.svg\" alt=\"Open In Colab\"/></a>"
      ]
    },
    {
      "cell_type": "code",
      "metadata": {
        "id": "S-XhmqABlGX6"
      },
      "source": [
        "from google.colab import drive\n",
        "drive.mount('/content/drive')"
      ],
      "execution_count": null,
      "outputs": []
    },
    {
      "cell_type": "code",
      "metadata": {
        "id": "mbllnGPulgWW"
      },
      "source": [
        "# PDI 2021.2 Trabalho 1 \n",
        "# Hector Leonardo Mota Moreira\n",
        "\n",
        "\n",
        "# Histogram\n",
        "\n",
        "\n",
        "import numpy as np\n",
        "import cv2\n",
        "import matplotlib.pyplot as plt \n",
        "from google.colab.patches import cv2_imshow\n",
        "\n",
        "\n",
        "# ========= Loading the image =========pw\n",
        "\n",
        "img = cv2.imread('/content/tanquegray.png', 0)\n",
        "\n",
        "# =========== Image Content =========== \n",
        "\n",
        "image_content = input('Informe o conteúdo da imagem: ')\n",
        "\n",
        "print ('Dimensões da Imagem:', img.shape)\n",
        "\n",
        "cv2_imshow(img)"
      ],
      "execution_count": null,
      "outputs": []
    },
    {
      "cell_type": "code",
      "metadata": {
        "id": "hJUg4TgekZrR"
      },
      "source": [
        "# Histogram\n",
        "\n",
        "plt.hist(img.ravel(),256,[0,256])\n",
        "plt.show()\n",
        "plt.savefig(image_content, dpi = 300)"
      ],
      "execution_count": null,
      "outputs": []
    },
    {
      "cell_type": "code",
      "metadata": {
        "id": "jua2bKySlm3h"
      },
      "source": [
        "# Histogram equalization\n",
        "\n",
        "eq_hist = cv2.equalizeHist(img)\n",
        "\n",
        "cv2_imshow(eq_hist)\n",
        "\n",
        "print(eq_hist.shape)\n",
        "\n",
        "plt.hist(eq_hist.ravel(),256,[0,256])\n",
        "plt.show()\n",
        "\n",
        "plt.savefig(image_content)\n",
        "\n",
        "\n",
        "file_name = '/content/drive/MyDrive/Computer_Vision/Trabalho_1 /Q7_8_Histogram/{}_equalized_histogram.png'\n",
        "\n",
        "cv2.imwrite(file_name.format(image_content), eq_hist)\n"
      ],
      "execution_count": null,
      "outputs": []
    }
  ]
}