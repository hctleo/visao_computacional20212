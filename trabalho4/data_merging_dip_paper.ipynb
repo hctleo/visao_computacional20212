{
  "nbformat": 4,
  "nbformat_minor": 0,
  "metadata": {
    "colab": {
      "name": "data_merging_dip_paper.ipynb",
      "provenance": [],
      "include_colab_link": true
    },
    "kernelspec": {
      "name": "python3",
      "display_name": "Python 3"
    },
    "language_info": {
      "name": "python"
    }
  },
  "cells": [
    {
      "cell_type": "markdown",
      "metadata": {
        "id": "view-in-github",
        "colab_type": "text"
      },
      "source": [
        "<a href=\"https://colab.research.google.com/github/mechhector/visao_computacional20212/blob/main/trabalho4/data_merging_dip_paper.ipynb\" target=\"_parent\"><img src=\"https://colab.research.google.com/assets/colab-badge.svg\" alt=\"Open In Colab\"/></a>"
      ]
    },
    {
      "cell_type": "code",
      "execution_count": null,
      "metadata": {
        "id": "63pyEYk2a-7f"
      },
      "outputs": [],
      "source": [
        "import cv2 \n",
        "import numpy as np\n",
        "import matplotlib.pyplot as plt\n",
        "import seaborn as sn\n",
        "\n",
        "from google.colab.patches import cv2_imshow\n",
        "\n",
        "from skimage import exposure\n",
        "\n",
        "\n",
        "img = cv2.imread('/content/drive/MyDrive/Computer_Vision/Paper/RGB/11. Acer palmaturu/iPAD2_C11_EX05.JPG',0)\n",
        "\n",
        "#cv2_imshow(img)"
      ]
    },
    {
      "cell_type": "code",
      "source": [
        "def normalizeImage(v):\n",
        "  v = (v - v.min()) / (v.max() - v.min())\n",
        "  result = (v * 255).astype(np.uint8)\n",
        "\n",
        "  #cv2_imshow(result)\n",
        "\n",
        "  return result"
      ],
      "metadata": {
        "id": "t3gWaF2ffUeZ"
      },
      "execution_count": null,
      "outputs": []
    },
    {
      "cell_type": "code",
      "source": [
        "leaf_class = [1,2,3,4,5,6,7,8,9,10,11,12,13,14,15,22,23,24,25,26,27,28,29,30,31,32,33,34,35,36]\n",
        "numberOfSamples = [12,10,10,8,12,8,10,11,14,13,16,12,13,12,10,12,11,13,9,12,11,12,12,12,11,11,11,11,11,10]\n",
        "count = 0\n",
        "\n",
        "\n",
        "for i in leaf_class:\n",
        "  for j in range(numberOfSamples[leaf_class.index(i)]):\n",
        "  \n",
        "  \n",
        "    hold_j = numberOfSamples[leaf_class.index(i)] + 1\n",
        "\n",
        "    if i > 9 and j+1 > 9:\n",
        "\n",
        "      data_path = '/content/drive/MyDrive/Computer_Vision/Paper/folhas/iPAD2_C{}_EX{}.JPG'\n",
        "\n",
        "      bg_data_path = '/content/drive/MyDrive/Computer_Vision/Paper/folhas_forma/iPAD2_C{}_EX{}_B.TIFF'\n",
        "\n",
        "      merged_leaf_path = '/content/drive/MyDrive/Computer_Vision/Paper/merged_leaf/merged_leaf_C{}_EX{}.JPG'\n",
        "\n",
        "    elif i <= 9 and j+1 > 9:\n",
        "\n",
        "      data_path = '/content/drive/MyDrive/Computer_Vision/Paper/folhas/iPAD2_C0{}_EX{}.JPG'\n",
        "\n",
        "      bg_data_path = '/content/drive/MyDrive/Computer_Vision/Paper/folhas_forma/iPAD2_C0{}_EX{}_B.TIFF'\n",
        "\n",
        "      merged_leaf_path = '/content/drive/MyDrive/Computer_Vision/Paper/merged_leaf/merged_leaf_C0{}_EX{}.JPG'\n",
        "\n",
        "    elif i > 9 and j+1 <= 9:\n",
        "\n",
        "      data_path = '/content/drive/MyDrive/Computer_Vision/Paper/folhas/iPAD2_C{}_EX0{}.JPG'\n",
        "\n",
        "      bg_data_path = '/content/drive/MyDrive/Computer_Vision/Paper/folhas_forma/iPAD2_C{}_EX0{}_B.TIFF'\n",
        "\n",
        "      merged_leaf_path = '/content/drive/MyDrive/Computer_Vision/Paper/merged_leaf/merged_leaf_C{}_EX0{}.JPG'\n",
        "    \n",
        "    else:\n",
        "\n",
        "      data_path = '/content/drive/MyDrive/Computer_Vision/Paper/folhas/iPAD2_C0{}_EX0{}.JPG'\n",
        "\n",
        "      bg_data_path = '/content/drive/MyDrive/Computer_Vision/Paper/folhas_forma/iPAD2_C0{}_EX0{}_B.TIFF'\n",
        "\n",
        "      merged_leaf_path = '/content/drive/MyDrive/Computer_Vision/Paper/merged_leaf/merged_leaf_C0{}_EX0{}.JPG'\n",
        "\n",
        "\n",
        "\n",
        "    leaf_image = cv2.imread(data_path.format(i,j+1),0)\n",
        "\n",
        "    bg_leaf_image = cv2.imread(bg_data_path.format(i,j+1),0)\n",
        "    \n",
        "    \n",
        "\n",
        "    if type(leaf_image) == None:\n",
        "      print(data_path.format(i,j+1))\n",
        "\n",
        "    if type(bg_leaf_image) == None:\n",
        "      print(data_path.format(i,j+1))\n",
        "\n",
        "    \n",
        "    # To merge the images\n",
        "    \n",
        "    for k in range(leaf_image.shape[0]):\n",
        "      for l in range(leaf_image.shape[1]):\n",
        "        if bg_leaf_image[k][l] == 255:\n",
        "          bg_leaf_image[k][l] = leaf_image[k][l]\n",
        "      \n",
        "    #cv2.imwrite(merged_leaf_path.format(i,j+1), bg_leaf_image) \n",
        "    \n",
        "\n",
        "    #print(data_path.format(i,j+1))\n",
        "    #cv2_imshow(leaf_image)\n",
        "\n",
        "    #cv2.imwrite(file_name.format(image_content),final_image)\n",
        "\n",
        "    #print(leaf_image)"
      ],
      "metadata": {
        "colab": {
          "base_uri": "https://localhost:8080/"
        },
        "id": "PJEtC8kwbwSl",
        "outputId": "f93b8408-44c7-4368-9e37-9cb5fb71e569"
      },
      "execution_count": null,
      "outputs": [
        {
          "output_type": "stream",
          "name": "stdout",
          "text": [
            "<class 'numpy.ndarray'>\n"
          ]
        }
      ]
    }
  ]
}